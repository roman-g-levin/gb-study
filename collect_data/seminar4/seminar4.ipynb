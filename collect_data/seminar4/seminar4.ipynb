{
 "cells": [
  {
   "cell_type": "markdown",
   "metadata": {},
   "source": [
    "Получение программы передач Первого канала"
   ]
  },
  {
   "cell_type": "code",
   "execution_count": 1,
   "metadata": {},
   "outputs": [],
   "source": [
    "# Импорт библиотек\n",
    "import requests\n",
    "import csv\n",
    "from lxml import html\n"
   ]
  },
  {
   "cell_type": "code",
   "execution_count": 2,
   "metadata": {},
   "outputs": [],
   "source": [
    "# Задание url и отправка запроса\n",
    "# Определение целевого URL\n",
    "url = \"https://tv.yandex.ru/channel/pervyy-16\"\n",
    "\n",
    "# Отправка HTTP GET запроса на целевой URL с пользовательским заголовком User-Agent\n",
    "response = requests.get(url, headers = {\n",
    "   'User-Agent' : 'Mozilla/5.0 (Macintosh; Intel Mac OS X 10_15_7) AppleWebKit/537.36 (KHTML, like Gecko) Chrome/108.0.0.0 Safari/537.36'})\n"
   ]
  },
  {
   "cell_type": "code",
   "execution_count": 3,
   "metadata": {},
   "outputs": [],
   "source": [
    "# Парсинг HTML-содержимого ответа с помощью библиотеки lxml\n",
    "tree = html.fromstring(response.content)"
   ]
  },
  {
   "cell_type": "code",
   "execution_count": 6,
   "metadata": {},
   "outputs": [
    {
     "name": "stdout",
     "output_type": "stream",
     "text": [
      "14:15 Информационный канал\n",
      "/program/informacionnyy-kanal-7326063?eventId=223771722\n",
      "17:00 Новости (с субтитрами)\n",
      "/program/novosti-s-subtitrami-7453735?eventId=223771723\n",
      "17:15 Давай поженимся!\n",
      "/program/davay-pojenimsya-7326066?eventId=223771724\n",
      "18:05 Мужское / Женское\n",
      "/program/mujskoe-jenskoe-7326070?eventId=223771725\n",
      "19:00 Информационный канал\n",
      "/program/informacionnyy-kanal-7326063?eventId=223771726\n",
      "19:55 Куклы наследника Тутти\n",
      "/program/kukly-naslednika-tutti-7326094?eventId=223771727\n",
      "21:00 Время\n",
      "/program/vremya-7326096?eventId=223771728\n",
      "21:45 Такси под прикрытием. 14-я серия\n",
      "/program/taksi-pod-prikrytiem-7442394?eventId=223771729\n",
      "22:45 Информационный канал\n",
      "/program/informacionnyy-kanal-7326063?eventId=223771730\n",
      "00:10 Золотой век. К 100-летию Зои Богуславской\n",
      "/program/zolotoy-vek-k-100-letiyu-zoi-boguslavskoy-7477358?eventId=223771731\n",
      "01:10 ПОДКАСТ.ЛАБ. Жизнь замечательных\n",
      "/program/podkastlab-7312782?eventId=223933392\n",
      "02:05 ПОДКАСТ.ЛАБ. Баден-Баден\n",
      "/program/podkastlab-7312782?eventId=223933393\n",
      "02:50 ПОДКАСТ.ЛАБ. Кот Шрёдингера\n",
      "/program/podkastlab-7312782?eventId=223933394\n",
      "03:00 Новости\n",
      "/program/novosti-7326106?eventId=223771735\n",
      "03:05 ПОДКАСТ.ЛАБ. Кот Шрёдингера\n",
      "/program/podkastlab-7312782?eventId=223933395\n",
      "03:40 ПОДКАСТ.ЛАБ. Мелодии моей жизни\n",
      "/program/podkastlab-7312782?eventId=223933396\n",
      "04:20 ПОДКАСТ.ЛАБ. Триггеры\n",
      "/program/podkastlab-7312782?eventId=223771738\n",
      "04:57 Перерыв в вещании\n",
      "/program/pereryv-v-veshchanii-6420173?eventId=223771739\n",
      "[['14:15', 'Информационный канал'], ['17:00', 'Новости (с субтитрами)'], ['17:15', 'Давай поженимся!'], ['18:05', 'Мужское / Женское'], ['19:00', 'Информационный канал'], ['19:55', 'Куклы наследника Тутти'], ['21:00', 'Время'], ['21:45', 'Такси под прикрытием. 14-я серия'], ['22:45', 'Информационный канал'], ['00:10', 'Золотой век. К 100-летию Зои Богуславской'], ['01:10', 'ПОДКАСТ.ЛАБ. Жизнь замечательных'], ['02:05', 'ПОДКАСТ.ЛАБ. Баден-Баден'], ['02:50', 'ПОДКАСТ.ЛАБ. Кот Шрёдингера'], ['03:00', 'Новости'], ['03:05', 'ПОДКАСТ.ЛАБ. Кот Шрёдингера'], ['03:40', 'ПОДКАСТ.ЛАБ. Мелодии моей жизни'], ['04:20', 'ПОДКАСТ.ЛАБ. Триггеры'], ['04:57', 'Перерыв в вещании']]\n"
     ]
    }
   ],
   "source": [
    "# Использование выражения XPath для выбора всех строк таблицы в пределах таблицы с классом 'records-table'\n",
    "table_items = tree.xpath('//li[@class=\"channel-schedule__event\"]')\n",
    "#table_items = tree.xpath('//div[@class=\"channel-schedule\"]')\n",
    "#table_items = tree.xpath('//ul[@class=\"channel-schedule__list\"]')\n",
    "\n",
    "table = []\n",
    "\n",
    "for item in table_items:\n",
    "    start_time = item.xpath('.//time/text()')[0].strip()\n",
    "    program_name = item.xpath('.//div/h3/span/text()')[0].strip().replace('\"','').replace(',','')\n",
    "    link = item.xpath('.//a/@href')[0]\n",
    "    table.append([start_time, program_name])\n",
    "\n",
    "    print(start_time, end=' ')\n",
    "    print(program_name)\n",
    "    print(link)\n",
    "\n",
    "print(table)"
   ]
  },
  {
   "cell_type": "code",
   "execution_count": 7,
   "metadata": {},
   "outputs": [],
   "source": [
    "with open('./program.csv', 'w', newline='', encoding='utf8') as f:\n",
    "    writer = csv.writer(f)\n",
    "    writer.writerows(table)\n",
    "\n"
   ]
  }
 ],
 "metadata": {
  "kernelspec": {
   "display_name": "Python 3",
   "language": "python",
   "name": "python3"
  },
  "language_info": {
   "codemirror_mode": {
    "name": "ipython",
    "version": 3
   },
   "file_extension": ".py",
   "mimetype": "text/x-python",
   "name": "python",
   "nbconvert_exporter": "python",
   "pygments_lexer": "ipython3",
   "version": "3.12.2"
  }
 },
 "nbformat": 4,
 "nbformat_minor": 2
}
