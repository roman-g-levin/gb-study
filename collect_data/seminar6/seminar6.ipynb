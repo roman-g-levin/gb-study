{
 "cells": [
  {
   "cell_type": "markdown",
   "metadata": {},
   "source": [
    "проверка работы xpath для семинара 6"
   ]
  },
  {
   "cell_type": "code",
   "execution_count": 1,
   "metadata": {},
   "outputs": [],
   "source": [
    "# Импорт библиотек\n",
    "import requests\n",
    "import csv\n",
    "from lxml import html\n"
   ]
  },
  {
   "cell_type": "code",
   "execution_count": 2,
   "metadata": {},
   "outputs": [],
   "source": [
    "# Задание url и отправка запроса\n",
    "# Определение целевого URL\n",
    "url = \"https://unsplash.com\"\n",
    "\n",
    "# Отправка HTTP GET запроса на целевой URL с пользовательским заголовком User-Agent\n",
    "response = requests.get(url, headers = {\n",
    "   'User-Agent' : 'Mozilla/5.0 (Macintosh; Intel Mac OS X 10_15_7) AppleWebKit/537.36 (KHTML, like Gecko) Chrome/108.0.0.0 Safari/537.36'})\n"
   ]
  },
  {
   "cell_type": "code",
   "execution_count": 3,
   "metadata": {},
   "outputs": [],
   "source": [
    "# Парсинг HTML-содержимого ответа с помощью библиотеки lxml\n",
    "tree = html.fromstring(response.content)"
   ]
  },
  {
   "cell_type": "code",
   "execution_count": 4,
   "metadata": {},
   "outputs": [
    {
     "name": "stdout",
     "output_type": "stream",
     "text": [
      "ЛТИ-120 /goods/560578\n",
      "ТТ /goods/407959\n",
      "ЛТИ-120 /goods/344381\n",
      " /goods/7282\n",
      "ОКСИДАЛ /goods/345730\n",
      " /goods/865258\n",
      "Ф-38Н /goods/344382\n",
      "RMA-223 /goods/834249\n",
      "ФКСп /goods/407968\n",
      " /goods/865263\n"
     ]
    }
   ],
   "source": [
    "# Использование выражения XPath для выбора всех изображений\n",
    "table_items = tree.xpath(\"//table[@class='cl']/tr\")\n",
    "table = []\n",
    "#print(table_items)\n",
    "\n",
    "# for item in table_items:\n",
    "#     name = item.xpath('.//td/a/text()')[0].strip()\n",
    "#     link = item.xpath('.//td/a/@href')[0]\n",
    "#     #table.append([start_time, program_name])\n",
    "\n",
    "#     #print(start_time, end=' ')\n",
    "#     #print(program_name)\n",
    "#     #print(item.xpath('.//a'))\n",
    "#     print(name, link)\n",
    "\n",
    "# #print(table)"
   ]
  }
 ],
 "metadata": {
  "kernelspec": {
   "display_name": "Python 3",
   "language": "python",
   "name": "python3"
  },
  "language_info": {
   "codemirror_mode": {
    "name": "ipython",
    "version": 3
   },
   "file_extension": ".py",
   "mimetype": "text/x-python",
   "name": "python",
   "nbconvert_exporter": "python",
   "pygments_lexer": "ipython3",
   "version": "3.12.2"
  }
 },
 "nbformat": 4,
 "nbformat_minor": 2
}
