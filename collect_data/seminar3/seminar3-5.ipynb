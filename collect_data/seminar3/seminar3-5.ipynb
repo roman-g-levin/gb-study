{
 "cells": [
  {
   "cell_type": "code",
   "execution_count": 1,
   "metadata": {},
   "outputs": [
    {
     "name": "stdout",
     "output_type": "stream",
     "text": [
      "1000\n"
     ]
    }
   ],
   "source": [
    "import json\n",
    "\n",
    "# Считать ранее сохраненные данные из файла\n",
    "data = []\n",
    "with open('./books.json', 'r') as f:\n",
    "    data = json.load(f)\n",
    "\n",
    "print(len(data))"
   ]
  },
  {
   "cell_type": "code",
   "execution_count": 4,
   "metadata": {},
   "outputs": [],
   "source": [
    "#1\n",
    "from clickhouse_driver import Client\n",
    "client = Client('localhost')\n",
    "\n",
    "#2\n",
    "#import clickhouse_connect\n",
    "#client2 = clickhouse_connect.get_client(host='localhost', username='default', password='')"
   ]
  },
  {
   "cell_type": "code",
   "execution_count": null,
   "metadata": {},
   "outputs": [],
   "source": [
    "# Создание базы данных (если она не существует)\n",
    "client.execute('CREATE DATABASE IF NOT EXISTS books')"
   ]
  },
  {
   "cell_type": "code",
   "execution_count": null,
   "metadata": {},
   "outputs": [],
   "source": [
    "# Создание таблицы\n",
    "client.execute('''\n",
    "CREATE TABLE IF NOT EXISTS books.inStock (\n",
    "    id UInt64,\n",
    "    Name String,\n",
    "    Price String,\n",
    "    Availability UInt32,\n",
    "    Description String\n",
    ") ENGINE = MergeTree()\n",
    "ORDER BY id\n",
    "''')\n"
   ]
  },
  {
   "cell_type": "code",
   "execution_count": null,
   "metadata": {},
   "outputs": [],
   "source": [
    "# Вставка\n",
    "for item in data:\n",
    "\n",
    "    # Определение _id\n",
    "    id = item['_id']\n",
    "\n",
    "    # Вставка данных\n",
    "    client.execute(\"\"\"\n",
    "    INSERT INTO books.inStock (\n",
    "        id, Name, Price,\n",
    "        Availability, Description\n",
    "    ) VALUES\"\"\",\n",
    "    [(id,\n",
    "      item['Name'] or \"\",\n",
    "      item['Price'] or \"\",\n",
    "      item['Availability'] or 0,\n",
    "      item['Description'] or \"\"\n",
    "      )])\n"
   ]
  },
  {
   "cell_type": "code",
   "execution_count": null,
   "metadata": {},
   "outputs": [],
   "source": [
    "# Проверка\n",
    "result = client.execute(\"SELECT * FROM books.inStock\")\n"
   ]
  }
 ],
 "metadata": {
  "kernelspec": {
   "display_name": "Python 3",
   "language": "python",
   "name": "python3"
  },
  "language_info": {
   "codemirror_mode": {
    "name": "ipython",
    "version": 3
   },
   "file_extension": ".py",
   "mimetype": "text/x-python",
   "name": "python",
   "nbconvert_exporter": "python",
   "pygments_lexer": "ipython3",
   "version": "3.12.2"
  }
 },
 "nbformat": 4,
 "nbformat_minor": 2
}
