{
  "cells": [
    {
      "cell_type": "code",
      "execution_count": 74,
      "metadata": {
        "id": "OynMETv9Dmvf"
      },
      "outputs": [],
      "source": [
        "import numpy as np"
      ]
    },
    {
      "cell_type": "code",
      "execution_count": 75,
      "metadata": {
        "id": "lWo5OXwRDd3C"
      },
      "outputs": [],
      "source": [
        "def sigmoid(x):\n",
        "  # Наша функция активации: f(x) = 1 / (1 + e^(-x))\n",
        "  return 1 / (1 + np.exp(-x))"
      ]
    },
    {
      "cell_type": "code",
      "execution_count": 76,
      "metadata": {
        "id": "ywULOSGaDx1G"
      },
      "outputs": [],
      "source": [
        "class Neuron:\n",
        "  def __init__(self, weights, bias):\n",
        "    self.weights = weights\n",
        "    self.bias = bias\n",
        "\n",
        "  def feedforward(self, inputs):\n",
        "    # Умножаем входы на веса, прибавляем порог, затем используем функцию активации\n",
        "    total = np.dot(self.weights, inputs) + self.bias\n",
        "    return sigmoid(total)"
      ]
    },
    {
      "cell_type": "code",
      "execution_count": 77,
      "metadata": {
        "colab": {
          "base_uri": "https://localhost:8080/"
        },
        "id": "KwOqYXxJE9dF",
        "outputId": "f2ec17ef-a00c-4cc2-9bc8-ff7e04443602"
      },
      "outputs": [
        {
          "name": "stdout",
          "output_type": "stream",
          "text": [
            "0.9990889488055994\n"
          ]
        }
      ],
      "source": [
        "weights = np.array([0, 1]) # w1 = 0, w2 = 1\n",
        "bias = 4                   # b = 4\n",
        "n = Neuron(weights, bias)\n",
        "\n",
        "x = np.array([2, 3])       # x1 = 2, x2 = 3\n",
        "print(n.feedforward(x))    # 0.9990889488055994"
      ]
    },
    {
      "cell_type": "code",
      "execution_count": 78,
      "metadata": {
        "id": "3ZurGOmTFatr"
      },
      "outputs": [],
      "source": [
        "class OurNeuralNetwork:\n",
        "  def __init__(self):\n",
        "    # Веса\n",
        "    self.w1 = np.random.normal()\n",
        "    self.w2 = np.random.normal()\n",
        "    self.w3 = np.random.normal()\n",
        "    self.w4 = np.random.normal()\n",
        "    self.w5 = np.random.normal()\n",
        "    self.w6 = np.random.normal()\n",
        "\n",
        "    # Пороги\n",
        "    self.b1 = np.random.normal()\n",
        "    self.b2 = np.random.normal()\n",
        "    self.b3 = np.random.normal()\n",
        "\n",
        "  def feedforward(self, x):\n",
        "    # x is a numpy array with 2 elements.\n",
        "    h1 = sigmoid(self.w1 * x[0] + self.w2 * x[1] + self.b1)\n",
        "    h2 = sigmoid(self.w3 * x[0] + self.w4 * x[1] + self.b2)\n",
        "    o1 = sigmoid(self.w5 * h1 + self.w6 * h2 + self.b3)\n",
        "    return o1\n",
        "\n",
        "  def predict(self,data):\n",
        "    print('Предсказание для произвольного набора данных')\n",
        "    for x in data:\n",
        "      print(x, end='-->')\n",
        "      res=self.feedforward(x)\n",
        "      print(res)\n",
        "    pass\n",
        "  \n",
        "  def train(self, data, all_y_trues):\n",
        "    '''\n",
        "    - data - массив numpy (n x 2) numpy, n = к-во наблюдений в наборе.\n",
        "    - all_y_trues - массив numpy с n элементами.\n",
        "      Элементы all_y_trues соответствуют наблюдениям в data.\n",
        "    '''\n",
        "    learn_rate = 0.1\n",
        "    epochs = 3500 # сколько раз пройти по всему набору данных\n",
        "\n",
        "    for epoch in range(epochs):\n",
        "      for x, y_true in zip(data, all_y_trues):\n",
        "        # --- Прямой проход (эти значения нам понадобятся позже)\n",
        "        sum_h1 = self.w1 * x[0] + self.w2 * x[1] + self.b1\n",
        "        h1 = sigmoid(sum_h1)\n",
        "\n",
        "        sum_h2 = self.w3 * x[0] + self.w4 * x[1] + self.b2\n",
        "        h2 = sigmoid(sum_h2)\n",
        "\n",
        "        sum_o1 = self.w5 * h1 + self.w6 * h2 + self.b3\n",
        "        o1 = sigmoid(sum_o1)\n",
        "        y_pred = o1\n",
        "\n",
        "        # --- Считаем частные производные.\n",
        "        # --- Имена: d_L_d_w1 = \"частная производная L по w1\"\n",
        "        d_L_d_ypred = -2 * (y_true - y_pred)\n",
        "\n",
        "        # Нейрон o1\n",
        "        d_ypred_d_w5 = h1 * deriv_sigmoid(sum_o1)\n",
        "        d_ypred_d_w6 = h2 * deriv_sigmoid(sum_o1)\n",
        "        d_ypred_d_b3 = deriv_sigmoid(sum_o1)\n",
        "\n",
        "        d_ypred_d_h1 = self.w5 * deriv_sigmoid(sum_o1)\n",
        "        d_ypred_d_h2 = self.w6 * deriv_sigmoid(sum_o1)\n",
        "\n",
        "        # Нейрон h1\n",
        "        d_h1_d_w1 = x[0] * deriv_sigmoid(sum_h1)\n",
        "        d_h1_d_w2 = x[1] * deriv_sigmoid(sum_h1)\n",
        "        d_h1_d_b1 = deriv_sigmoid(sum_h1)\n",
        "\n",
        "        # Нейрон h2\n",
        "        d_h2_d_w3 = x[0] * deriv_sigmoid(sum_h2)\n",
        "        d_h2_d_w4 = x[1] * deriv_sigmoid(sum_h2)\n",
        "        d_h2_d_b2 = deriv_sigmoid(sum_h2)\n",
        "\n",
        "        # --- Обновляем веса и пороги\n",
        "        # Нейрон h1\n",
        "        self.w1 -= learn_rate * d_L_d_ypred * d_ypred_d_h1 * d_h1_d_w1\n",
        "        self.w2 -= learn_rate * d_L_d_ypred * d_ypred_d_h1 * d_h1_d_w2\n",
        "        self.b1 -= learn_rate * d_L_d_ypred * d_ypred_d_h1 * d_h1_d_b1\n",
        "\n",
        "        # Нейрон h2\n",
        "        self.w3 -= learn_rate * d_L_d_ypred * d_ypred_d_h2 * d_h2_d_w3\n",
        "        self.w4 -= learn_rate * d_L_d_ypred * d_ypred_d_h2 * d_h2_d_w4\n",
        "        self.b2 -= learn_rate * d_L_d_ypred * d_ypred_d_h2 * d_h2_d_b2\n",
        "\n",
        "        # Нейрон o1\n",
        "        self.w5 -= learn_rate * d_L_d_ypred * d_ypred_d_w5\n",
        "        self.w6 -= learn_rate * d_L_d_ypred * d_ypred_d_w6\n",
        "        self.b3 -= learn_rate * d_L_d_ypred * d_ypred_d_b3\n",
        "\n",
        "      # --- Считаем полные потери в конце каждой эпохи\n",
        "      if epoch % 500 == 0:\n",
        "        y_preds = np.apply_along_axis(self.feedforward, 1, data)\n",
        "        loss = mse_loss(all_y_trues, y_preds)\n",
        "        print(\"Epoch %d loss: %.3f\" % (epoch, loss))"
      ]
    },
    {
      "cell_type": "code",
      "execution_count": 79,
      "metadata": {
        "id": "g_RcWISlGz6b"
      },
      "outputs": [],
      "source": [
        "def mse_loss(y_true, y_pred):\n",
        "  # y_true и y_pred - массивы numpy одинаковой длины.\n",
        "  return ((y_true - y_pred) ** 2).mean()"
      ]
    },
    {
      "cell_type": "code",
      "execution_count": 80,
      "metadata": {
        "id": "wAWrGm6XIN3x"
      },
      "outputs": [],
      "source": [
        "def deriv_sigmoid(x):\n",
        "  # Производная сигмоиды: f'(x) = f(x) * (1 - f(x))\n",
        "  fx = sigmoid(x)\n",
        "  return fx * (1 - fx)"
      ]
    },
    {
      "cell_type": "code",
      "execution_count": 81,
      "metadata": {
        "id": "UDp_NhE-IpWx"
      },
      "outputs": [],
      "source": [
        "# Определим набор данных\n",
        "data = np.array([\n",
        "  [-2, -1],  # Алиса\n",
        "  [25, 6],   # Боб\n",
        "  [17, 4],   # Чарли\n",
        "  [-15, -6], # Диана\n",
        "])\n",
        "all_y_trues = np.array([\n",
        "  1, # Алиса\n",
        "  0, # Боб\n",
        "  0, # Чарли\n",
        "  1, # Диана\n",
        "])\n"
      ]
    },
    {
      "cell_type": "code",
      "execution_count": 82,
      "metadata": {
        "colab": {
          "base_uri": "https://localhost:8080/"
        },
        "id": "kldwIdYoLYDN",
        "outputId": "3edf2081-b642-488c-c90d-67fc1c6111f8"
      },
      "outputs": [
        {
          "name": "stdout",
          "output_type": "stream",
          "text": [
            "Epoch 0 loss: 0.442\n",
            "Epoch 500 loss: 0.003\n",
            "Epoch 1000 loss: 0.001"
          ]
        },
        {
          "name": "stdout",
          "output_type": "stream",
          "text": [
            "\n",
            "Epoch 1500 loss: 0.001\n",
            "Epoch 2000 loss: 0.001\n",
            "Epoch 2500 loss: 0.001\n",
            "Epoch 3000 loss: 0.000\n"
          ]
        }
      ],
      "source": [
        "network = OurNeuralNetwork()\n",
        "network.train(data, all_y_trues)"
      ]
    },
    {
      "cell_type": "code",
      "execution_count": 83,
      "metadata": {},
      "outputs": [
        {
          "name": "stdout",
          "output_type": "stream",
          "text": [
            "Предсказание для произвольного набора данных\n",
            "[-1  0]-->0.945062799763893\n",
            "[12  3]-->0.019872257558177415\n",
            "[ 1 25]-->0.019803070582255288\n",
            "[-10  -4]-->0.9824957714769988\n",
            "[0 0]-->0.8767532492560102\n",
            "[100 100]-->0.01980301348382516\n",
            "[-2 14]-->0.020425191517274174\n"
          ]
        }
      ],
      "source": [
        "# Предсказание обученной сети для произвольного набора данных\n",
        "data_pred = np.array([\n",
        "  [-1, 0],\n",
        "  [12, 3],\n",
        "  [1, 25],\n",
        "  [-10, -4],\n",
        "  [0, 0],\n",
        "  [100, 100],\n",
        "  [-2, 14],\n",
        "])\n",
        "\n",
        "network.predict(data_pred)"
      ]
    }
  ],
  "metadata": {
    "colab": {
      "provenance": []
    },
    "kernelspec": {
      "display_name": "Python 3",
      "name": "python3"
    },
    "language_info": {
      "codemirror_mode": {
        "name": "ipython",
        "version": 3
      },
      "file_extension": ".py",
      "mimetype": "text/x-python",
      "name": "python",
      "nbconvert_exporter": "python",
      "pygments_lexer": "ipython3",
      "version": "3.11.7"
    }
  },
  "nbformat": 4,
  "nbformat_minor": 0
}
