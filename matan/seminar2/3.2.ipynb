{
 "cells": [
  {
   "cell_type": "code",
   "execution_count": 5,
   "metadata": {},
   "outputs": [
    {
     "name": "stdout",
     "output_type": "stream",
     "text": [
      "f(1) = 128\n",
      "f(2) = 134\n",
      "f(3) = 140\n",
      "f(4) = 146\n",
      "f(5) = 152\n",
      "f(6) = 158\n",
      "f(7) = 164\n",
      "f(8) = 170\n",
      "f(9) = 176\n",
      "f(10) = 182\n",
      "f(11) = 188\n",
      "f(12) = 194\n"
     ]
    }
   ],
   "source": [
    "# функция для расчета неявно заданной последовательности\n",
    "def next(a):\n",
    "    return a + 6\n",
    "\n",
    "# Исследование последовательности\n",
    "a = 128\n",
    "for i in range(1,13):\n",
    "    print(f'f({i}) = {a}')\n",
    "    a = next(a)\n"
   ]
  }
 ],
 "metadata": {
  "kernelspec": {
   "display_name": "Python 3",
   "language": "python",
   "name": "python3"
  },
  "language_info": {
   "codemirror_mode": {
    "name": "ipython",
    "version": 3
   },
   "file_extension": ".py",
   "mimetype": "text/x-python",
   "name": "python",
   "nbconvert_exporter": "python",
   "pygments_lexer": "ipython3",
   "version": "3.11.9"
  }
 },
 "nbformat": 4,
 "nbformat_minor": 2
}
