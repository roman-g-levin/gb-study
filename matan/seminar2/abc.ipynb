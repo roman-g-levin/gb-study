{
 "cells": [
  {
   "cell_type": "code",
   "execution_count": 1,
   "metadata": {},
   "outputs": [
    {
     "name": "stdout",
     "output_type": "stream",
     "text": [
      "{'f', 'a', 'g', 'y', ' ', 'u', 'l', 'x', 'v', 'c', 'd', 'L', 'w', 'o', 'm', 't', 'p', 'r', 'e', 's', 'i', 'n'}\n",
      "{'f', 'a', 'y', 'g', ' ', 'u', 'l', 'c', 'd', 'M', 'o', 'w', 'W', 'm', 't', 'p', 'r', 'e', 's', 'i', 'h', 'n'}\n",
      "{'k', 'a', '2', 'g', 'y', 'b', ' ', '1', 'A', 'l', 'v', ',', 'O', 'c', 'X', 'd', 'M', 'o', 'm', 't', 'p', 'S', 'r', 'e', 's', 'i', '0', 'n'}\n"
     ]
    }
   ],
   "source": [
    "# Операции над множествами\n",
    "# Задание множеств A, B и C\n",
    "A = set(\"Linux was originally developed for personal computers\")\n",
    "B = set(\"Microsoft Windows is a product line of proprietary graphical operating systems\")\n",
    "C = set(\"macOS, originally Mac OS X, is an operating system developed and marketed by Apple since 2001\")\n",
    "\n",
    "print(f'{A}\\n{B}\\n{C}')"
   ]
  },
  {
   "cell_type": "code",
   "execution_count": 3,
   "metadata": {},
   "outputs": [
    {
     "name": "stdout",
     "output_type": "stream",
     "text": [
      "{'a', 'y', 'g', 'p', 't', 'r', 'e', 's', ' ', 'o', 'i', 'n', 'l', 'm', 'c', 'd'}\n"
     ]
    }
   ],
   "source": [
    "# Пересечение множеств\n",
    "print(A & B & C)"
   ]
  },
  {
   "cell_type": "code",
   "execution_count": 4,
   "metadata": {},
   "outputs": [
    {
     "name": "stdout",
     "output_type": "stream",
     "text": [
      "{'f', 'k', 'a', '2', 'g', 'y', 'b', ' ', 'u', '1', 'A', 'l', 'v', ',', 'O', 'c', 'd', 'X', 'M', 'o', 'w', 'm', 't', 'p', 'r', 'e', 'S', 's', 'i', '0', 'n'}\n"
     ]
    }
   ],
   "source": [
    "# пересечение с объединением\n",
    "print((A & B) | C)"
   ]
  },
  {
   "cell_type": "code",
   "execution_count": 5,
   "metadata": {},
   "outputs": [
    {
     "name": "stdout",
     "output_type": "stream",
     "text": [
      "{'f', 'u', 'w'}\n"
     ]
    }
   ],
   "source": [
    "# пересечение с разностью\n",
    "print((A & B) - C)"
   ]
  },
  {
   "cell_type": "code",
   "execution_count": 6,
   "metadata": {},
   "outputs": [
    {
     "name": "stdout",
     "output_type": "stream",
     "text": [
      "{'k', 'f', '2', 'b', 'M', 'u', 'w', '1', 'A', 'v', 'S', ',', '0', 'O', 'X'}\n"
     ]
    }
   ],
   "source": [
    "# пересечение с симметрической разностью\n",
    "print((A & B) ^ C)"
   ]
  },
  {
   "cell_type": "code",
   "execution_count": 7,
   "metadata": {},
   "outputs": [
    {
     "name": "stdout",
     "output_type": "stream",
     "text": [
      "{'f', 'k', 'a', '2', 'g', 'y', 'b', ' ', 'u', '1', 'A', 'l', 'x', 'v', ',', 'O', 'c', 'd', 'X', 'L', 'M', 'w', 'o', 'W', 'm', 't', 'p', 'r', 'e', 'S', 's', 'i', 'h', '0', 'n'}\n"
     ]
    }
   ],
   "source": [
    "# Объединение множеств\n",
    "print(A | B | C)\n"
   ]
  },
  {
   "cell_type": "code",
   "execution_count": 8,
   "metadata": {},
   "outputs": [
    {
     "name": "stdout",
     "output_type": "stream",
     "text": [
      "{'f', 'L', 'u', 'w', 'h', 'W', 'x'}\n"
     ]
    }
   ],
   "source": [
    "# объединение с разностью\n",
    "print((A | B) - C)"
   ]
  },
  {
   "cell_type": "code",
   "execution_count": 9,
   "metadata": {},
   "outputs": [
    {
     "name": "stdout",
     "output_type": "stream",
     "text": [
      "{'k', 'f', '2', 'L', 'b', 'u', 'w', '1', 'W', 'A', 'x', 'S', ',', '0', 'h', 'O', 'X'}\n"
     ]
    }
   ],
   "source": [
    "# объединение с симметрической разностью\n",
    "print((A | B) ^ C)"
   ]
  },
  {
   "cell_type": "code",
   "execution_count": 10,
   "metadata": {},
   "outputs": [
    {
     "name": "stdout",
     "output_type": "stream",
     "text": [
      "{'k', 'a', '2', 'g', 'y', 'b', 'L', ' ', 'o', '1', 'W', 'A', 'l', 'm', 't', 'x', 'p', 'S', 'd', 'r', 'e', 's', ',', 'i', '0', 'h', 'n', 'O', 'c', 'X'}\n"
     ]
    }
   ],
   "source": [
    "# симметрическая разность\n",
    "print((A ^ B) ^ C)"
   ]
  }
 ],
 "metadata": {
  "kernelspec": {
   "display_name": "Python 3",
   "language": "python",
   "name": "python3"
  },
  "language_info": {
   "codemirror_mode": {
    "name": "ipython",
    "version": 3
   },
   "file_extension": ".py",
   "mimetype": "text/x-python",
   "name": "python",
   "nbconvert_exporter": "python",
   "pygments_lexer": "ipython3",
   "version": "3.11.9"
  }
 },
 "nbformat": 4,
 "nbformat_minor": 2
}
