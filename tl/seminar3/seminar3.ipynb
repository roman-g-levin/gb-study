{
 "cells": [
  {
   "cell_type": "markdown",
   "metadata": {},
   "source": [
    "Реализуйте классификацию эмоциональной окрашенности текстов при помощи объекта pipeline.\n",
    "\n",
    "1. Найдите тип задач Sentiment Analysis на huggingface.co\n",
    "2. Найдите модель для русского языка (примеры: rubert-tiny2..., rubert-base...)"
   ]
  },
  {
   "cell_type": "code",
   "execution_count": 20,
   "metadata": {},
   "outputs": [
    {
     "name": "stderr",
     "output_type": "stream",
     "text": [
      "Some weights of BertForSequenceClassification were not initialized from the model checkpoint at ai-forever/ruBert-base and are newly initialized: ['classifier.bias', 'classifier.weight']\n",
      "You should probably TRAIN this model on a down-stream task to be able to use it for predictions and inference.\n"
     ]
    }
   ],
   "source": [
    "# Use a pipeline as a high-level helper\n",
    "from transformers import pipeline\n",
    "\n",
    "pipe1 = pipeline(task=\"text-classification\", model=\"ai-forever/ruBert-base\")"
   ]
  },
  {
   "cell_type": "code",
   "execution_count": 21,
   "metadata": {},
   "outputs": [
    {
     "data": {
      "text/plain": [
       "[{'label': 'LABEL_1', 'score': 0.5838038325309753},\n",
       " {'label': 'LABEL_1', 'score': 0.5171933770179749},\n",
       " {'label': 'LABEL_1', 'score': 0.5808646082878113},\n",
       " {'label': 'LABEL_1', 'score': 0.5145224332809448},\n",
       " {'label': 'LABEL_0', 'score': 0.5071728229522705}]"
      ]
     },
     "execution_count": 21,
     "metadata": {},
     "output_type": "execute_result"
    }
   ],
   "source": [
    "pipe1( [\"Отличный товар\",\n",
    "            \"Мне не понравилось\",\n",
    "            \"Прекрасно выглядит, ничего не меняйте!\",\n",
    "            \"Ничего не понял\",\n",
    "            \"У меня не работала розетка, в остальном все отлично\"] )"
   ]
  },
  {
   "cell_type": "code",
   "execution_count": 22,
   "metadata": {},
   "outputs": [
    {
     "name": "stderr",
     "output_type": "stream",
     "text": [
      "Some weights of BertForSequenceClassification were not initialized from the model checkpoint at cointegrated/rubert-tiny2 and are newly initialized: ['classifier.bias', 'classifier.weight']\n",
      "You should probably TRAIN this model on a down-stream task to be able to use it for predictions and inference.\n"
     ]
    }
   ],
   "source": [
    "from transformers import pipeline\n",
    "\n",
    "pipe2 = pipeline(task=\"text-classification\", model=\"cointegrated/rubert-tiny2\")"
   ]
  },
  {
   "cell_type": "code",
   "execution_count": 23,
   "metadata": {},
   "outputs": [
    {
     "data": {
      "text/plain": [
       "[{'label': 'LABEL_0', 'score': 0.5112994313240051},\n",
       " {'label': 'LABEL_1', 'score': 0.5102476477622986},\n",
       " {'label': 'LABEL_1', 'score': 0.5021375417709351},\n",
       " {'label': 'LABEL_1', 'score': 0.5093973875045776},\n",
       " {'label': 'LABEL_1', 'score': 0.5047199726104736}]"
      ]
     },
     "execution_count": 23,
     "metadata": {},
     "output_type": "execute_result"
    }
   ],
   "source": [
    "pipe2( [\"Отличный товар\",\n",
    "            \"Мне не понравилось\",\n",
    "            \"Прекрасно выглядит, ничего не меняйте!\",\n",
    "            \"Ничего не понял\",\n",
    "            \"У меня не работала розетка, в остальном все отлично\"] )"
   ]
  }
 ],
 "metadata": {
  "kernelspec": {
   "display_name": "venv",
   "language": "python",
   "name": "python3"
  },
  "language_info": {
   "codemirror_mode": {
    "name": "ipython",
    "version": 3
   },
   "file_extension": ".py",
   "mimetype": "text/x-python",
   "name": "python",
   "nbconvert_exporter": "python",
   "pygments_lexer": "ipython3",
   "version": "3.11.9"
  }
 },
 "nbformat": 4,
 "nbformat_minor": 2
}
