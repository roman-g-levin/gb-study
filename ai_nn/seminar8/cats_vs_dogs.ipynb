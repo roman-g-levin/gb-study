{
 "cells": [
  {
   "cell_type": "markdown",
   "metadata": {},
   "source": [
    "Нейросеть для определения класса изображения: кошка или собака"
   ]
  },
  {
   "cell_type": "code",
   "execution_count": 5,
   "metadata": {},
   "outputs": [
    {
     "name": "stderr",
     "output_type": "stream",
     "text": [
      "2024-08-08 22:15:02.279503: E external/local_xla/xla/stream_executor/cuda/cuda_fft.cc:485] Unable to register cuFFT factory: Attempting to register factory for plugin cuFFT when one has already been registered\n",
      "2024-08-08 22:15:02.301591: E external/local_xla/xla/stream_executor/cuda/cuda_dnn.cc:8454] Unable to register cuDNN factory: Attempting to register factory for plugin cuDNN when one has already been registered\n",
      "2024-08-08 22:15:02.308235: E external/local_xla/xla/stream_executor/cuda/cuda_blas.cc:1452] Unable to register cuBLAS factory: Attempting to register factory for plugin cuBLAS when one has already been registered\n",
      "2024-08-08 22:15:02.325038: I tensorflow/core/platform/cpu_feature_guard.cc:210] This TensorFlow binary is optimized to use available CPU instructions in performance-critical operations.\n",
      "To enable the following instructions: AVX2 FMA, in other operations, rebuild TensorFlow with the appropriate compiler flags.\n",
      "2024-08-08 22:15:03.345147: W tensorflow/compiler/tf2tensorrt/utils/py_utils.cc:38] TF-TRT Warning: Could not find TensorRT\n"
     ]
    }
   ],
   "source": [
    "\"\"\"Подключение библиотек\"\"\"\n",
    "\n",
    "from tensorflow import keras\n",
    "from tensorflow.keras import layers\n",
    "from tensorflow.keras import Sequential\n",
    "from tensorflow.keras.layers import Conv2D, MaxPooling2D, Flatten, Dense, Dropout, Activation, BatchNormalization, AveragePooling2D\n",
    "from tensorflow.keras.optimizers import SGD, RMSprop, Adam\n",
    "## pip install tensorflow-datasets\n",
    "import tensorflow_datasets as tfds\n",
    "import tensorflow as tf\n",
    "import logging\n",
    "import numpy as np\n",
    "import time"
   ]
  },
  {
   "cell_type": "code",
   "execution_count": 6,
   "metadata": {},
   "outputs": [],
   "source": [
    "\"\"\"Модель нейросети\"\"\"\n",
    "\n",
    "def dog_cat_model():\n",
    "  model = Sequential()\n",
    "  model.add(Conv2D(32, (3, 3), input_shape=(128, 128, 3), activation='relu'))\n",
    "  model.add(MaxPooling2D(pool_size=(2, 2)))\n",
    "  model.add(Conv2D(32, (3, 3), activation='relu'))\n",
    "  model.add(MaxPooling2D(pool_size=(2, 2)))\n",
    "  model.add(Flatten())\n",
    "  model.add(Dense(units=128, activation='relu'))\n",
    "  model.add(Dense(units=1, activation='sigmoid'))\n",
    "  model.compile(optimizer=Adam(),\n",
    "    loss='binary_crossentropy',\n",
    "    metrics=['accuracy'])\n",
    "  return model"
   ]
  },
  {
   "cell_type": "code",
   "execution_count": 10,
   "metadata": {},
   "outputs": [],
   "source": [
    "\"\"\"Обучение нейросети.\n",
    "В исходном датасете — 25 тысяч изображений.\n",
    "Датасет делится на 3 части: для обучения, верификации и тестирования,\n",
    "каждое изображение обрабатывается.\n",
    "Размер изображения приводится к 128 × 128 пикселей, а цвет в диапазоне от нуля до единицы.\"\"\"\n",
    "\n",
    "def dog_cat_train(model):\n",
    "  #splits = tfds.Split.TRAIN.subsplit(weighted=(80, 10, 10))\n",
    "  splits = (\"train[:80%]\", \"train[19%:]\", \"train[19%:80%]\")\n",
    "  (cat_train, cat_valid, cat_test), info = tfds.load('cats_vs_dogs',\n",
    "    split=list(splits), with_info=True, as_supervised=True)\n",
    "\n",
    "  def pre_process_image(image, label):\n",
    "    image = tf.cast(image, tf.float32)\n",
    "    image = image/255.0\n",
    "    image = tf.image.resize(image, (128, 128))\n",
    "    return image, label\n",
    "\n",
    "  BATCH_SIZE = 32\n",
    "  SHUFFLE_BUFFER_SIZE = 1000\n",
    "  train_batch = cat_train.map(pre_process_image).shuffle(SHUFFLE_BUFFER_SIZE).repeat().batch(BATCH_SIZE)\n",
    "  validation_batch = cat_valid.map(pre_process_image).repeat().batch(BATCH_SIZE)\n",
    "\n",
    "  t_start = time.time()\n",
    "  model.fit(train_batch, steps_per_epoch=4000, epochs=2,\n",
    "    validation_data=validation_batch,\n",
    "    validation_steps=10,\n",
    "    callbacks=None)\n",
    "  print(\"Training done, dT:\", time.time() - t_start)"
   ]
  },
  {
   "cell_type": "code",
   "execution_count": null,
   "metadata": {},
   "outputs": [],
   "source": [
    "\"\"\"обучение модели и сохранение результата\"\"\"\n",
    "\n",
    "model = dog_cat_model()\n",
    "dog_cat_train(model)\n",
    "model.save('dogs_cats.keras')"
   ]
  },
  {
   "cell_type": "code",
   "execution_count": 31,
   "metadata": {},
   "outputs": [],
   "source": [
    "\"\"\"Использование обученной сети.\n",
    "Функция распознавания изображения.\"\"\"\n",
    "\n",
    "def dog_cat_predict(model, image_file):\n",
    "  label_names = [\"кошка\", \"собака\"]\n",
    "\n",
    "  img = keras.preprocessing.image.load_img(image_file,\n",
    "    target_size=(128, 128))\n",
    "  img_arr = np.expand_dims(img, axis=0) / 255.0\n",
    "  #result = model.predict_classes(img_arr)\n",
    "  predict_x = model.predict(img_arr) \n",
    "  result = np.argmax(predict_x,axis=0)\n",
    "  \n",
    "  #print(\"Результат: %s\" % label_names[result[0][0]])\n",
    "  print(\"Результат: %s\" % label_names[result[0]])\n",
    "  print(f\"Результат: {result[0]}\")"
   ]
  },
  {
   "cell_type": "code",
   "execution_count": 32,
   "metadata": {},
   "outputs": [
    {
     "name": "stdout",
     "output_type": "stream",
     "text": [
      "\u001b[1m1/1\u001b[0m \u001b[32m━━━━━━━━━━━━━━━━━━━━\u001b[0m\u001b[37m\u001b[0m \u001b[1m0s\u001b[0m 68ms/step\n",
      "Результат: кошка\n",
      "Результат: 0\n",
      "\u001b[1m1/1\u001b[0m \u001b[32m━━━━━━━━━━━━━━━━━━━━\u001b[0m\u001b[37m\u001b[0m \u001b[1m0s\u001b[0m 21ms/step\n",
      "Результат: кошка\n",
      "Результат: 0\n",
      "\u001b[1m1/1\u001b[0m \u001b[32m━━━━━━━━━━━━━━━━━━━━\u001b[0m\u001b[37m\u001b[0m \u001b[1m0s\u001b[0m 21ms/step\n",
      "Результат: кошка\n",
      "Результат: 0\n",
      "\u001b[1m1/1\u001b[0m \u001b[32m━━━━━━━━━━━━━━━━━━━━\u001b[0m\u001b[37m\u001b[0m \u001b[1m0s\u001b[0m 23ms/step\n",
      "Результат: кошка\n",
      "Результат: 0\n",
      "\u001b[1m1/1\u001b[0m \u001b[32m━━━━━━━━━━━━━━━━━━━━\u001b[0m\u001b[37m\u001b[0m \u001b[1m0s\u001b[0m 24ms/step\n",
      "Результат: кошка\n",
      "Результат: 0\n",
      "\u001b[1m1/1\u001b[0m \u001b[32m━━━━━━━━━━━━━━━━━━━━\u001b[0m\u001b[37m\u001b[0m \u001b[1m0s\u001b[0m 21ms/step\n",
      "Результат: кошка\n",
      "Результат: 0\n"
     ]
    }
   ],
   "source": [
    "model = tf.keras.models.load_model('dogs_cats.keras')\n",
    "dog_cat_predict(model, \"cat1.jpeg\")\n",
    "dog_cat_predict(model, \"cat2.jpeg\")\n",
    "dog_cat_predict(model, \"cat3.jpeg\")\n",
    "\n",
    "dog_cat_predict(model, \"dog1.jpeg\")\n",
    "dog_cat_predict(model, \"dog2.jpeg\")\n",
    "dog_cat_predict(model, \"dog3.jpeg\")"
   ]
  },
  {
   "cell_type": "markdown",
   "metadata": {},
   "source": [
    "В результате всех экспериментов, нейросеть все равно считает, что любое переданное ей изображение в день кошки 8 августа должно быть кошкой. Поэтому собаку сегодня тоже считает кошкой.\n"
   ]
  }
 ],
 "metadata": {
  "kernelspec": {
   "display_name": ".venv",
   "language": "python",
   "name": "python3"
  },
  "language_info": {
   "codemirror_mode": {
    "name": "ipython",
    "version": 3
   },
   "file_extension": ".py",
   "mimetype": "text/x-python",
   "name": "python",
   "nbconvert_exporter": "python",
   "pygments_lexer": "ipython3",
   "version": "3.11.2"
  }
 },
 "nbformat": 4,
 "nbformat_minor": 2
}
